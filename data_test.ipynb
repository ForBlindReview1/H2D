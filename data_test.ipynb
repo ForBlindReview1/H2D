{
 "cells": [
  {
   "cell_type": "code",
   "execution_count": 3,
   "metadata": {},
   "outputs": [
    {
     "name": "stdout",
     "output_type": "stream",
     "text": [
      "Cached images / labels : 84, and 84\n"
     ]
    }
   ],
   "source": [
    "import glob\n",
    "import hashlib\n",
    "import json\n",
    "import math\n",
    "import os\n",
    "import random\n",
    "import copy\n",
    "import shutil\n",
    "import argparse\n",
    "import time\n",
    "from pathlib import Path\n",
    "from itertools import repeat\n",
    "import matplotlib.pyplot as plt\n",
    "import cv2\n",
    "import logging\n",
    "import numpy as np\n",
    "import scipy.sparse as ssp\n",
    "import networkx as nx\n",
    "import torch\n",
    "import torch.nn.functional as F\n",
    "from PIL import ExifTags, Image, ImageOps, ImageDraw, ImageFont\n",
    "from torch.utils.data import DataLoader, Dataset, dataloader, distributed\n",
    "import torchvision\n",
    "from torchvision.models.detection.faster_rcnn import FastRCNNPredictor\n",
    "\n",
    "import transforms as T\n",
    "from tool.utils import *\n",
    "from data import *\n",
    "from engine import train_one_epoch, evaluate\n",
    "from metric import *\n",
    "from tensorized_GNN import BatchedGNNlayer\n",
    "\n",
    "# \n",
    "root_dir = '/nasdata2/khj/objectdetection/BMw'\n",
    "IMG_FORMATS = ['bmp', 'dng', 'jpeg', 'jpg', 'mpo', 'png', 'tif', 'tiff', 'webp','gif'] \n",
    "img_dir, lab_dir = root_dir + '/images/', root_dir + '/labels/'\n",
    "\n",
    "\n",
    "'''\n",
    "Read caches\n",
    "'''\n",
    "f = []  # image files\n",
    "for p in path if isinstance(img_dir, list) else [img_dir]:\n",
    "    p = Path(p)\n",
    "    f += glob.glob(str(p / '**' / '*.*'), recursive=True)\n",
    "img_files = sorted(x.replace('/', os.sep) for x in f if x.split('.')[-1].lower() in IMG_FORMATS)\n",
    "label_files = img2label_paths(img_files)  # labels\n",
    "\n",
    "print('Cached images / labels : {}, and {}'.format(len(img_files),len(label_files)))\n",
    "\n",
    "'''\n",
    "Load data\n",
    "'''\n",
    "img_all, label_all = [], []\n",
    "nins = 0\n",
    "for sample in range(len(img_files)):\n",
    "    # read\n",
    "    img, labels = read_data(img_files,label_files,xywhn=False,subj_index=sample,img_size=608)\n",
    "    if labels.ndim == 1: \n",
    "        labels = labels.reshape(1,-1)\n",
    "    if np.shape(labels)[-1] == 0: \n",
    "        continue\n",
    "    nins += np.shape(labels)[0]\n",
    "\n",
    "    # stack\n",
    "    img_all.append(img)\n",
    "    label_all.append(labels)"
   ]
  },
  {
   "cell_type": "code",
   "execution_count": 4,
   "metadata": {},
   "outputs": [
    {
     "name": "stdout",
     "output_type": "stream",
     "text": [
      "84\n",
      "(608, 608, 3)\n",
      "[[25.        0.253285  0.470464  0.261314  0.447257]\n",
      " [25.        0.50146   0.512658  0.272993  0.316456]\n",
      " [25.        0.736496  0.56962   0.179562  0.253165]]\n"
     ]
    }
   ],
   "source": [
    "print(len(img_all))\n",
    "print(np.shape(img_all[0]))\n",
    "\n",
    "print(label_all[0])"
   ]
  },
  {
   "cell_type": "code",
   "execution_count": 5,
   "metadata": {},
   "outputs": [
    {
     "name": "stdout",
     "output_type": "stream",
     "text": [
      "[[ 74.557824 150.075984 233.436736 422.00824 ]\n",
      " [221.897808 215.49344  387.877552 407.898688]\n",
      " [393.20272  269.3668   502.376416 423.29112 ]]\n"
     ]
    }
   ],
   "source": [
    "lab = label_all[0][:,1:]\n",
    "bboxes = xywhn2xyxy(lab,608,608)\n",
    "\n",
    "print(bboxes)"
   ]
  },
  {
   "cell_type": "code",
   "execution_count": null,
   "metadata": {},
   "outputs": [],
   "source": []
  }
 ],
 "metadata": {
  "kernelspec": {
   "display_name": "foryolo",
   "language": "python",
   "name": "foryolo"
  },
  "language_info": {
   "codemirror_mode": {
    "name": "ipython",
    "version": 3
   },
   "file_extension": ".py",
   "mimetype": "text/x-python",
   "name": "python",
   "nbconvert_exporter": "python",
   "pygments_lexer": "ipython3",
   "version": "3.8.6"
  }
 },
 "nbformat": 4,
 "nbformat_minor": 5
}
