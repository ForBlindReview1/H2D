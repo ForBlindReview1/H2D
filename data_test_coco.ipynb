{
 "cells": [
  {
   "cell_type": "code",
   "execution_count": 1,
   "metadata": {},
   "outputs": [],
   "source": [
    "from pycocotools.coco import COCO\n",
    "import numpy as np\n",
    "import os\n",
    "import torch\n",
    "from PIL import ExifTags, Image, ImageOps, ImageDraw, ImageFont\n",
    "import time\n",
    "\n",
    "class load_coco():\n",
    "    def __init__(self, root_dir, set_name='train2017'):\n",
    "        self.root_dir = root_dir\n",
    "        self.set_name = set_name\n",
    "        self.coco = COCO(os.path.join(self.root_dir, 'annotations', 'instances_' + self.set_name + '.json'))\n",
    "        \n",
    "        whole_image_ids = self.coco.getImgIds()  # remove the images which has no annot\n",
    "        self.image_ids = []\n",
    "        for idx in whole_image_ids:\n",
    "            annotations_ids = self.coco.getAnnIds(imgIds=idx, iscrowd=False)\n",
    "            if len(annotations_ids) != 0:\n",
    "                self.image_ids.append(idx)\n",
    "        \n",
    "    def load_image(self, image_index):\n",
    "            image_info = self.coco.loadImgs(self.image_ids[image_index])[0]\n",
    "            path = os.path.join(self.root_dir, self.set_name, image_info['file_name'])\n",
    "            image = Image.open(path).convert('RGB')\n",
    "            return np.array(image)\n",
    "        \n",
    "    def load_annotations(self, image_index):\n",
    "        # get ground truth annotations\n",
    "        annotations_ids = self.coco.getAnnIds(imgIds=self.image_ids[image_index], iscrowd=False)\n",
    "        annotations = np.zeros((0, 4))\n",
    "\n",
    "        # some images appear to miss annotations (like image with id 257034)\n",
    "        if len(annotations_ids) == 0:\n",
    "            return annotations\n",
    "\n",
    "        # parse annotations\n",
    "        coco_annotations = self.coco.loadAnns(annotations_ids)\n",
    "        for idx, a in enumerate(coco_annotations):\n",
    "\n",
    "            # some annotations have basically no width / height, skip them\n",
    "            if a['bbox'][2] < 1 or a['bbox'][3] < 1:\n",
    "                continue\n",
    "\n",
    "            annotation = np.zeros((1, 4))\n",
    "            annotation[0, :] = a['bbox']\n",
    "            annotations = np.append(annotations, annotation, axis=0)\n",
    "\n",
    "        # transform from [x, y, w, h] to [x1, y1, x2, y2]\n",
    "        annotations[:, 2] = annotations[:, 0] + annotations[:, 2]\n",
    "        annotations[:, 3] = annotations[:, 1] + annotations[:, 3]\n",
    "\n",
    "        return annotations\n",
    "    \n",
    "    def get_dataset(self):\n",
    "        \n",
    "        print('We found {} files... Read images/labels...'.format(len(self.image_ids)))\n",
    "        cnt = 0\n",
    "        since = time.time()\n",
    "        img_all, label_all = [], []\n",
    "        for idx in range(5000):\n",
    "            if cnt % 10000 == 0 and cnt != 0: \n",
    "                time_elapsed = time.time() - since\n",
    "                print('\\t Current idx {}... complete in {:.0f}m {:.0f}s'.format(cnt, time_elapsed // 60, time_elapsed % 60))\n",
    "            img_all.append(self.load_image(idx))\n",
    "            label_all.append(self.load_annotations(idx))\n",
    "            cnt += 1\n",
    "            \n",
    "        return img_all, label_all"
   ]
  },
  {
   "cell_type": "code",
   "execution_count": 2,
   "metadata": {},
   "outputs": [
    {
     "name": "stdout",
     "output_type": "stream",
     "text": [
      "loading annotations into memory...\n",
      "Done (t=16.60s)\n",
      "creating index...\n",
      "index created!\n"
     ]
    }
   ],
   "source": [
    "coco_loader = load_coco(root_dir='/nasdata2/khj/objectdetection/segmentation/coco', set_name='train2017')"
   ]
  },
  {
   "cell_type": "code",
   "execution_count": 3,
   "metadata": {},
   "outputs": [
    {
     "name": "stdout",
     "output_type": "stream",
     "text": [
      "We found 117266 files... Read images/labels...\n"
     ]
    }
   ],
   "source": [
    "img_all, label_all = coco_loader.get_dataset()"
   ]
  },
  {
   "cell_type": "code",
   "execution_count": 4,
   "metadata": {},
   "outputs": [
    {
     "name": "stdout",
     "output_type": "stream",
     "text": [
      "5000\n",
      "(360, 640, 3)\n",
      "[[359.17 146.17 471.62 359.74]\n",
      " [339.88  22.16 493.76 322.89]\n",
      " [471.64 172.82 507.56 220.92]\n",
      " [486.01 183.31 516.64 218.29]]\n"
     ]
    }
   ],
   "source": [
    "print(len(img_all))\n",
    "print(np.shape(img_all[0]))\n",
    "\n",
    "print(label_all[0])"
   ]
  },
  {
   "cell_type": "code",
   "execution_count": 4,
   "metadata": {},
   "outputs": [
    {
     "data": {
      "text/plain": [
       "117266"
      ]
     },
     "execution_count": 4,
     "metadata": {},
     "output_type": "execute_result"
    }
   ],
   "source": [
    "len(coco_loader.image_ids)"
   ]
  },
  {
   "cell_type": "code",
   "execution_count": 5,
   "metadata": {},
   "outputs": [
    {
     "data": {
      "text/plain": [
       "391895"
      ]
     },
     "execution_count": 5,
     "metadata": {},
     "output_type": "execute_result"
    }
   ],
   "source": [
    "coco_loader.image_ids[0]"
   ]
  },
  {
   "cell_type": "code",
   "execution_count": 11,
   "metadata": {},
   "outputs": [
    {
     "data": {
      "text/plain": [
       "ModuleList(\n",
       "  (0): BatchedGNNlayer(\n",
       "    (W): Linear(in_features=96, out_features=96, bias=True)\n",
       "  )\n",
       "  (1): BatchedGNNlayer(\n",
       "    (W): Linear(in_features=96, out_features=96, bias=True)\n",
       "  )\n",
       "  (2): BatchedGNNlayer(\n",
       "    (W): Linear(in_features=96, out_features=96, bias=True)\n",
       "  )\n",
       ")"
      ]
     },
     "execution_count": 11,
     "metadata": {},
     "output_type": "execute_result"
    }
   ],
   "source": [
    "from tensorized_GNN import BatchedGNNlayer\n",
    "gnns = torch.nn.ModuleList([BatchedGNNlayer(96,96)])\n",
    "gnns.append(BatchedGNNlayer(96,96))\n",
    "gnns.append(BatchedGNNlayer(96,96))"
   ]
  },
  {
   "cell_type": "code",
   "execution_count": 15,
   "metadata": {},
   "outputs": [],
   "source": [
    "import torchvision\n",
    "model = torchvision.models.detection.fasterrcnn_resnet50_fpn(pretrained=False)\n",
    "# (optional) load the pre-trained weights\n",
    "\n",
    "pretrained_dict = torch.load('./output_h2d_gnn_coco/ckpt_epoch8_lr0.001_h512_K64_L3_b1_nl2_t0.001_samp0.pth',map_location=torch.device('cpu')) \n",
    "#model.backbone.load_state_dict(pretrained_dict)"
   ]
  },
  {
   "cell_type": "code",
   "execution_count": 19,
   "metadata": {},
   "outputs": [
    {
     "data": {
      "text/plain": [
       "odict_keys(['body.conv1.weight', 'body.bn1.weight', 'body.bn1.bias', 'body.bn1.running_mean', 'body.bn1.running_var', 'body.layer1.0.conv1.weight', 'body.layer1.0.bn1.weight', 'body.layer1.0.bn1.bias', 'body.layer1.0.bn1.running_mean', 'body.layer1.0.bn1.running_var', 'body.layer1.0.conv2.weight', 'body.layer1.0.bn2.weight', 'body.layer1.0.bn2.bias', 'body.layer1.0.bn2.running_mean', 'body.layer1.0.bn2.running_var', 'body.layer1.0.conv3.weight', 'body.layer1.0.bn3.weight', 'body.layer1.0.bn3.bias', 'body.layer1.0.bn3.running_mean', 'body.layer1.0.bn3.running_var', 'body.layer1.0.downsample.0.weight', 'body.layer1.0.downsample.1.weight', 'body.layer1.0.downsample.1.bias', 'body.layer1.0.downsample.1.running_mean', 'body.layer1.0.downsample.1.running_var', 'body.layer1.1.conv1.weight', 'body.layer1.1.bn1.weight', 'body.layer1.1.bn1.bias', 'body.layer1.1.bn1.running_mean', 'body.layer1.1.bn1.running_var', 'body.layer1.1.conv2.weight', 'body.layer1.1.bn2.weight', 'body.layer1.1.bn2.bias', 'body.layer1.1.bn2.running_mean', 'body.layer1.1.bn2.running_var', 'body.layer1.1.conv3.weight', 'body.layer1.1.bn3.weight', 'body.layer1.1.bn3.bias', 'body.layer1.1.bn3.running_mean', 'body.layer1.1.bn3.running_var', 'body.layer1.2.conv1.weight', 'body.layer1.2.bn1.weight', 'body.layer1.2.bn1.bias', 'body.layer1.2.bn1.running_mean', 'body.layer1.2.bn1.running_var', 'body.layer1.2.conv2.weight', 'body.layer1.2.bn2.weight', 'body.layer1.2.bn2.bias', 'body.layer1.2.bn2.running_mean', 'body.layer1.2.bn2.running_var', 'body.layer1.2.conv3.weight', 'body.layer1.2.bn3.weight', 'body.layer1.2.bn3.bias', 'body.layer1.2.bn3.running_mean', 'body.layer1.2.bn3.running_var', 'body.layer2.0.conv1.weight', 'body.layer2.0.bn1.weight', 'body.layer2.0.bn1.bias', 'body.layer2.0.bn1.running_mean', 'body.layer2.0.bn1.running_var', 'body.layer2.0.conv2.weight', 'body.layer2.0.bn2.weight', 'body.layer2.0.bn2.bias', 'body.layer2.0.bn2.running_mean', 'body.layer2.0.bn2.running_var', 'body.layer2.0.conv3.weight', 'body.layer2.0.bn3.weight', 'body.layer2.0.bn3.bias', 'body.layer2.0.bn3.running_mean', 'body.layer2.0.bn3.running_var', 'body.layer2.0.downsample.0.weight', 'body.layer2.0.downsample.1.weight', 'body.layer2.0.downsample.1.bias', 'body.layer2.0.downsample.1.running_mean', 'body.layer2.0.downsample.1.running_var', 'body.layer2.1.conv1.weight', 'body.layer2.1.bn1.weight', 'body.layer2.1.bn1.bias', 'body.layer2.1.bn1.running_mean', 'body.layer2.1.bn1.running_var', 'body.layer2.1.conv2.weight', 'body.layer2.1.bn2.weight', 'body.layer2.1.bn2.bias', 'body.layer2.1.bn2.running_mean', 'body.layer2.1.bn2.running_var', 'body.layer2.1.conv3.weight', 'body.layer2.1.bn3.weight', 'body.layer2.1.bn3.bias', 'body.layer2.1.bn3.running_mean', 'body.layer2.1.bn3.running_var', 'body.layer2.2.conv1.weight', 'body.layer2.2.bn1.weight', 'body.layer2.2.bn1.bias', 'body.layer2.2.bn1.running_mean', 'body.layer2.2.bn1.running_var', 'body.layer2.2.conv2.weight', 'body.layer2.2.bn2.weight', 'body.layer2.2.bn2.bias', 'body.layer2.2.bn2.running_mean', 'body.layer2.2.bn2.running_var', 'body.layer2.2.conv3.weight', 'body.layer2.2.bn3.weight', 'body.layer2.2.bn3.bias', 'body.layer2.2.bn3.running_mean', 'body.layer2.2.bn3.running_var', 'body.layer2.3.conv1.weight', 'body.layer2.3.bn1.weight', 'body.layer2.3.bn1.bias', 'body.layer2.3.bn1.running_mean', 'body.layer2.3.bn1.running_var', 'body.layer2.3.conv2.weight', 'body.layer2.3.bn2.weight', 'body.layer2.3.bn2.bias', 'body.layer2.3.bn2.running_mean', 'body.layer2.3.bn2.running_var', 'body.layer2.3.conv3.weight', 'body.layer2.3.bn3.weight', 'body.layer2.3.bn3.bias', 'body.layer2.3.bn3.running_mean', 'body.layer2.3.bn3.running_var', 'body.layer3.0.conv1.weight', 'body.layer3.0.bn1.weight', 'body.layer3.0.bn1.bias', 'body.layer3.0.bn1.running_mean', 'body.layer3.0.bn1.running_var', 'body.layer3.0.conv2.weight', 'body.layer3.0.bn2.weight', 'body.layer3.0.bn2.bias', 'body.layer3.0.bn2.running_mean', 'body.layer3.0.bn2.running_var', 'body.layer3.0.conv3.weight', 'body.layer3.0.bn3.weight', 'body.layer3.0.bn3.bias', 'body.layer3.0.bn3.running_mean', 'body.layer3.0.bn3.running_var', 'body.layer3.0.downsample.0.weight', 'body.layer3.0.downsample.1.weight', 'body.layer3.0.downsample.1.bias', 'body.layer3.0.downsample.1.running_mean', 'body.layer3.0.downsample.1.running_var', 'body.layer3.1.conv1.weight', 'body.layer3.1.bn1.weight', 'body.layer3.1.bn1.bias', 'body.layer3.1.bn1.running_mean', 'body.layer3.1.bn1.running_var', 'body.layer3.1.conv2.weight', 'body.layer3.1.bn2.weight', 'body.layer3.1.bn2.bias', 'body.layer3.1.bn2.running_mean', 'body.layer3.1.bn2.running_var', 'body.layer3.1.conv3.weight', 'body.layer3.1.bn3.weight', 'body.layer3.1.bn3.bias', 'body.layer3.1.bn3.running_mean', 'body.layer3.1.bn3.running_var', 'body.layer3.2.conv1.weight', 'body.layer3.2.bn1.weight', 'body.layer3.2.bn1.bias', 'body.layer3.2.bn1.running_mean', 'body.layer3.2.bn1.running_var', 'body.layer3.2.conv2.weight', 'body.layer3.2.bn2.weight', 'body.layer3.2.bn2.bias', 'body.layer3.2.bn2.running_mean', 'body.layer3.2.bn2.running_var', 'body.layer3.2.conv3.weight', 'body.layer3.2.bn3.weight', 'body.layer3.2.bn3.bias', 'body.layer3.2.bn3.running_mean', 'body.layer3.2.bn3.running_var', 'body.layer3.3.conv1.weight', 'body.layer3.3.bn1.weight', 'body.layer3.3.bn1.bias', 'body.layer3.3.bn1.running_mean', 'body.layer3.3.bn1.running_var', 'body.layer3.3.conv2.weight', 'body.layer3.3.bn2.weight', 'body.layer3.3.bn2.bias', 'body.layer3.3.bn2.running_mean', 'body.layer3.3.bn2.running_var', 'body.layer3.3.conv3.weight', 'body.layer3.3.bn3.weight', 'body.layer3.3.bn3.bias', 'body.layer3.3.bn3.running_mean', 'body.layer3.3.bn3.running_var', 'body.layer3.4.conv1.weight', 'body.layer3.4.bn1.weight', 'body.layer3.4.bn1.bias', 'body.layer3.4.bn1.running_mean', 'body.layer3.4.bn1.running_var', 'body.layer3.4.conv2.weight', 'body.layer3.4.bn2.weight', 'body.layer3.4.bn2.bias', 'body.layer3.4.bn2.running_mean', 'body.layer3.4.bn2.running_var', 'body.layer3.4.conv3.weight', 'body.layer3.4.bn3.weight', 'body.layer3.4.bn3.bias', 'body.layer3.4.bn3.running_mean', 'body.layer3.4.bn3.running_var', 'body.layer3.5.conv1.weight', 'body.layer3.5.bn1.weight', 'body.layer3.5.bn1.bias', 'body.layer3.5.bn1.running_mean', 'body.layer3.5.bn1.running_var', 'body.layer3.5.conv2.weight', 'body.layer3.5.bn2.weight', 'body.layer3.5.bn2.bias', 'body.layer3.5.bn2.running_mean', 'body.layer3.5.bn2.running_var', 'body.layer3.5.conv3.weight', 'body.layer3.5.bn3.weight', 'body.layer3.5.bn3.bias', 'body.layer3.5.bn3.running_mean', 'body.layer3.5.bn3.running_var', 'body.layer4.0.conv1.weight', 'body.layer4.0.bn1.weight', 'body.layer4.0.bn1.bias', 'body.layer4.0.bn1.running_mean', 'body.layer4.0.bn1.running_var', 'body.layer4.0.conv2.weight', 'body.layer4.0.bn2.weight', 'body.layer4.0.bn2.bias', 'body.layer4.0.bn2.running_mean', 'body.layer4.0.bn2.running_var', 'body.layer4.0.conv3.weight', 'body.layer4.0.bn3.weight', 'body.layer4.0.bn3.bias', 'body.layer4.0.bn3.running_mean', 'body.layer4.0.bn3.running_var', 'body.layer4.0.downsample.0.weight', 'body.layer4.0.downsample.1.weight', 'body.layer4.0.downsample.1.bias', 'body.layer4.0.downsample.1.running_mean', 'body.layer4.0.downsample.1.running_var', 'body.layer4.1.conv1.weight', 'body.layer4.1.bn1.weight', 'body.layer4.1.bn1.bias', 'body.layer4.1.bn1.running_mean', 'body.layer4.1.bn1.running_var', 'body.layer4.1.conv2.weight', 'body.layer4.1.bn2.weight', 'body.layer4.1.bn2.bias', 'body.layer4.1.bn2.running_mean', 'body.layer4.1.bn2.running_var', 'body.layer4.1.conv3.weight', 'body.layer4.1.bn3.weight', 'body.layer4.1.bn3.bias', 'body.layer4.1.bn3.running_mean', 'body.layer4.1.bn3.running_var', 'body.layer4.2.conv1.weight', 'body.layer4.2.bn1.weight', 'body.layer4.2.bn1.bias', 'body.layer4.2.bn1.running_mean', 'body.layer4.2.bn1.running_var', 'body.layer4.2.conv2.weight', 'body.layer4.2.bn2.weight', 'body.layer4.2.bn2.bias', 'body.layer4.2.bn2.running_mean', 'body.layer4.2.bn2.running_var', 'body.layer4.2.conv3.weight', 'body.layer4.2.bn3.weight', 'body.layer4.2.bn3.bias', 'body.layer4.2.bn3.running_mean', 'body.layer4.2.bn3.running_var', 'fpn.inner_blocks.0.weight', 'fpn.inner_blocks.0.bias', 'fpn.inner_blocks.1.weight', 'fpn.inner_blocks.1.bias', 'fpn.inner_blocks.2.weight', 'fpn.inner_blocks.2.bias', 'fpn.inner_blocks.3.weight', 'fpn.inner_blocks.3.bias', 'fpn.layer_blocks.0.weight', 'fpn.layer_blocks.0.bias', 'fpn.layer_blocks.1.weight', 'fpn.layer_blocks.1.bias', 'fpn.layer_blocks.2.weight', 'fpn.layer_blocks.2.bias', 'fpn.layer_blocks.3.weight', 'fpn.layer_blocks.3.bias'])"
      ]
     },
     "execution_count": 19,
     "metadata": {},
     "output_type": "execute_result"
    }
   ],
   "source": [
    "model.backbone.state_dict().keys()"
   ]
  },
  {
   "cell_type": "code",
   "execution_count": 21,
   "metadata": {},
   "outputs": [
    {
     "data": {
      "text/plain": [
       "odict_keys(['module.body.conv1.weight', 'module.body.bn1.weight', 'module.body.bn1.bias', 'module.body.bn1.running_mean', 'module.body.bn1.running_var', 'module.body.layer1.0.conv1.weight', 'module.body.layer1.0.bn1.weight', 'module.body.layer1.0.bn1.bias', 'module.body.layer1.0.bn1.running_mean', 'module.body.layer1.0.bn1.running_var', 'module.body.layer1.0.conv2.weight', 'module.body.layer1.0.bn2.weight', 'module.body.layer1.0.bn2.bias', 'module.body.layer1.0.bn2.running_mean', 'module.body.layer1.0.bn2.running_var', 'module.body.layer1.0.conv3.weight', 'module.body.layer1.0.bn3.weight', 'module.body.layer1.0.bn3.bias', 'module.body.layer1.0.bn3.running_mean', 'module.body.layer1.0.bn3.running_var', 'module.body.layer1.0.downsample.0.weight', 'module.body.layer1.0.downsample.1.weight', 'module.body.layer1.0.downsample.1.bias', 'module.body.layer1.0.downsample.1.running_mean', 'module.body.layer1.0.downsample.1.running_var', 'module.body.layer1.1.conv1.weight', 'module.body.layer1.1.bn1.weight', 'module.body.layer1.1.bn1.bias', 'module.body.layer1.1.bn1.running_mean', 'module.body.layer1.1.bn1.running_var', 'module.body.layer1.1.conv2.weight', 'module.body.layer1.1.bn2.weight', 'module.body.layer1.1.bn2.bias', 'module.body.layer1.1.bn2.running_mean', 'module.body.layer1.1.bn2.running_var', 'module.body.layer1.1.conv3.weight', 'module.body.layer1.1.bn3.weight', 'module.body.layer1.1.bn3.bias', 'module.body.layer1.1.bn3.running_mean', 'module.body.layer1.1.bn3.running_var', 'module.body.layer1.2.conv1.weight', 'module.body.layer1.2.bn1.weight', 'module.body.layer1.2.bn1.bias', 'module.body.layer1.2.bn1.running_mean', 'module.body.layer1.2.bn1.running_var', 'module.body.layer1.2.conv2.weight', 'module.body.layer1.2.bn2.weight', 'module.body.layer1.2.bn2.bias', 'module.body.layer1.2.bn2.running_mean', 'module.body.layer1.2.bn2.running_var', 'module.body.layer1.2.conv3.weight', 'module.body.layer1.2.bn3.weight', 'module.body.layer1.2.bn3.bias', 'module.body.layer1.2.bn3.running_mean', 'module.body.layer1.2.bn3.running_var', 'module.body.layer2.0.conv1.weight', 'module.body.layer2.0.bn1.weight', 'module.body.layer2.0.bn1.bias', 'module.body.layer2.0.bn1.running_mean', 'module.body.layer2.0.bn1.running_var', 'module.body.layer2.0.conv2.weight', 'module.body.layer2.0.bn2.weight', 'module.body.layer2.0.bn2.bias', 'module.body.layer2.0.bn2.running_mean', 'module.body.layer2.0.bn2.running_var', 'module.body.layer2.0.conv3.weight', 'module.body.layer2.0.bn3.weight', 'module.body.layer2.0.bn3.bias', 'module.body.layer2.0.bn3.running_mean', 'module.body.layer2.0.bn3.running_var', 'module.body.layer2.0.downsample.0.weight', 'module.body.layer2.0.downsample.1.weight', 'module.body.layer2.0.downsample.1.bias', 'module.body.layer2.0.downsample.1.running_mean', 'module.body.layer2.0.downsample.1.running_var', 'module.body.layer2.1.conv1.weight', 'module.body.layer2.1.bn1.weight', 'module.body.layer2.1.bn1.bias', 'module.body.layer2.1.bn1.running_mean', 'module.body.layer2.1.bn1.running_var', 'module.body.layer2.1.conv2.weight', 'module.body.layer2.1.bn2.weight', 'module.body.layer2.1.bn2.bias', 'module.body.layer2.1.bn2.running_mean', 'module.body.layer2.1.bn2.running_var', 'module.body.layer2.1.conv3.weight', 'module.body.layer2.1.bn3.weight', 'module.body.layer2.1.bn3.bias', 'module.body.layer2.1.bn3.running_mean', 'module.body.layer2.1.bn3.running_var', 'module.body.layer2.2.conv1.weight', 'module.body.layer2.2.bn1.weight', 'module.body.layer2.2.bn1.bias', 'module.body.layer2.2.bn1.running_mean', 'module.body.layer2.2.bn1.running_var', 'module.body.layer2.2.conv2.weight', 'module.body.layer2.2.bn2.weight', 'module.body.layer2.2.bn2.bias', 'module.body.layer2.2.bn2.running_mean', 'module.body.layer2.2.bn2.running_var', 'module.body.layer2.2.conv3.weight', 'module.body.layer2.2.bn3.weight', 'module.body.layer2.2.bn3.bias', 'module.body.layer2.2.bn3.running_mean', 'module.body.layer2.2.bn3.running_var', 'module.body.layer2.3.conv1.weight', 'module.body.layer2.3.bn1.weight', 'module.body.layer2.3.bn1.bias', 'module.body.layer2.3.bn1.running_mean', 'module.body.layer2.3.bn1.running_var', 'module.body.layer2.3.conv2.weight', 'module.body.layer2.3.bn2.weight', 'module.body.layer2.3.bn2.bias', 'module.body.layer2.3.bn2.running_mean', 'module.body.layer2.3.bn2.running_var', 'module.body.layer2.3.conv3.weight', 'module.body.layer2.3.bn3.weight', 'module.body.layer2.3.bn3.bias', 'module.body.layer2.3.bn3.running_mean', 'module.body.layer2.3.bn3.running_var', 'module.body.layer3.0.conv1.weight', 'module.body.layer3.0.bn1.weight', 'module.body.layer3.0.bn1.bias', 'module.body.layer3.0.bn1.running_mean', 'module.body.layer3.0.bn1.running_var', 'module.body.layer3.0.conv2.weight', 'module.body.layer3.0.bn2.weight', 'module.body.layer3.0.bn2.bias', 'module.body.layer3.0.bn2.running_mean', 'module.body.layer3.0.bn2.running_var', 'module.body.layer3.0.conv3.weight', 'module.body.layer3.0.bn3.weight', 'module.body.layer3.0.bn3.bias', 'module.body.layer3.0.bn3.running_mean', 'module.body.layer3.0.bn3.running_var', 'module.body.layer3.0.downsample.0.weight', 'module.body.layer3.0.downsample.1.weight', 'module.body.layer3.0.downsample.1.bias', 'module.body.layer3.0.downsample.1.running_mean', 'module.body.layer3.0.downsample.1.running_var', 'module.body.layer3.1.conv1.weight', 'module.body.layer3.1.bn1.weight', 'module.body.layer3.1.bn1.bias', 'module.body.layer3.1.bn1.running_mean', 'module.body.layer3.1.bn1.running_var', 'module.body.layer3.1.conv2.weight', 'module.body.layer3.1.bn2.weight', 'module.body.layer3.1.bn2.bias', 'module.body.layer3.1.bn2.running_mean', 'module.body.layer3.1.bn2.running_var', 'module.body.layer3.1.conv3.weight', 'module.body.layer3.1.bn3.weight', 'module.body.layer3.1.bn3.bias', 'module.body.layer3.1.bn3.running_mean', 'module.body.layer3.1.bn3.running_var', 'module.body.layer3.2.conv1.weight', 'module.body.layer3.2.bn1.weight', 'module.body.layer3.2.bn1.bias', 'module.body.layer3.2.bn1.running_mean', 'module.body.layer3.2.bn1.running_var', 'module.body.layer3.2.conv2.weight', 'module.body.layer3.2.bn2.weight', 'module.body.layer3.2.bn2.bias', 'module.body.layer3.2.bn2.running_mean', 'module.body.layer3.2.bn2.running_var', 'module.body.layer3.2.conv3.weight', 'module.body.layer3.2.bn3.weight', 'module.body.layer3.2.bn3.bias', 'module.body.layer3.2.bn3.running_mean', 'module.body.layer3.2.bn3.running_var', 'module.body.layer3.3.conv1.weight', 'module.body.layer3.3.bn1.weight', 'module.body.layer3.3.bn1.bias', 'module.body.layer3.3.bn1.running_mean', 'module.body.layer3.3.bn1.running_var', 'module.body.layer3.3.conv2.weight', 'module.body.layer3.3.bn2.weight', 'module.body.layer3.3.bn2.bias', 'module.body.layer3.3.bn2.running_mean', 'module.body.layer3.3.bn2.running_var', 'module.body.layer3.3.conv3.weight', 'module.body.layer3.3.bn3.weight', 'module.body.layer3.3.bn3.bias', 'module.body.layer3.3.bn3.running_mean', 'module.body.layer3.3.bn3.running_var', 'module.body.layer3.4.conv1.weight', 'module.body.layer3.4.bn1.weight', 'module.body.layer3.4.bn1.bias', 'module.body.layer3.4.bn1.running_mean', 'module.body.layer3.4.bn1.running_var', 'module.body.layer3.4.conv2.weight', 'module.body.layer3.4.bn2.weight', 'module.body.layer3.4.bn2.bias', 'module.body.layer3.4.bn2.running_mean', 'module.body.layer3.4.bn2.running_var', 'module.body.layer3.4.conv3.weight', 'module.body.layer3.4.bn3.weight', 'module.body.layer3.4.bn3.bias', 'module.body.layer3.4.bn3.running_mean', 'module.body.layer3.4.bn3.running_var', 'module.body.layer3.5.conv1.weight', 'module.body.layer3.5.bn1.weight', 'module.body.layer3.5.bn1.bias', 'module.body.layer3.5.bn1.running_mean', 'module.body.layer3.5.bn1.running_var', 'module.body.layer3.5.conv2.weight', 'module.body.layer3.5.bn2.weight', 'module.body.layer3.5.bn2.bias', 'module.body.layer3.5.bn2.running_mean', 'module.body.layer3.5.bn2.running_var', 'module.body.layer3.5.conv3.weight', 'module.body.layer3.5.bn3.weight', 'module.body.layer3.5.bn3.bias', 'module.body.layer3.5.bn3.running_mean', 'module.body.layer3.5.bn3.running_var', 'module.body.layer4.0.conv1.weight', 'module.body.layer4.0.bn1.weight', 'module.body.layer4.0.bn1.bias', 'module.body.layer4.0.bn1.running_mean', 'module.body.layer4.0.bn1.running_var', 'module.body.layer4.0.conv2.weight', 'module.body.layer4.0.bn2.weight', 'module.body.layer4.0.bn2.bias', 'module.body.layer4.0.bn2.running_mean', 'module.body.layer4.0.bn2.running_var', 'module.body.layer4.0.conv3.weight', 'module.body.layer4.0.bn3.weight', 'module.body.layer4.0.bn3.bias', 'module.body.layer4.0.bn3.running_mean', 'module.body.layer4.0.bn3.running_var', 'module.body.layer4.0.downsample.0.weight', 'module.body.layer4.0.downsample.1.weight', 'module.body.layer4.0.downsample.1.bias', 'module.body.layer4.0.downsample.1.running_mean', 'module.body.layer4.0.downsample.1.running_var', 'module.body.layer4.1.conv1.weight', 'module.body.layer4.1.bn1.weight', 'module.body.layer4.1.bn1.bias', 'module.body.layer4.1.bn1.running_mean', 'module.body.layer4.1.bn1.running_var', 'module.body.layer4.1.conv2.weight', 'module.body.layer4.1.bn2.weight', 'module.body.layer4.1.bn2.bias', 'module.body.layer4.1.bn2.running_mean', 'module.body.layer4.1.bn2.running_var', 'module.body.layer4.1.conv3.weight', 'module.body.layer4.1.bn3.weight', 'module.body.layer4.1.bn3.bias', 'module.body.layer4.1.bn3.running_mean', 'module.body.layer4.1.bn3.running_var', 'module.body.layer4.2.conv1.weight', 'module.body.layer4.2.bn1.weight', 'module.body.layer4.2.bn1.bias', 'module.body.layer4.2.bn1.running_mean', 'module.body.layer4.2.bn1.running_var', 'module.body.layer4.2.conv2.weight', 'module.body.layer4.2.bn2.weight', 'module.body.layer4.2.bn2.bias', 'module.body.layer4.2.bn2.running_mean', 'module.body.layer4.2.bn2.running_var', 'module.body.layer4.2.conv3.weight', 'module.body.layer4.2.bn3.weight', 'module.body.layer4.2.bn3.bias', 'module.body.layer4.2.bn3.running_mean', 'module.body.layer4.2.bn3.running_var', 'module.fpn.inner_blocks.0.weight', 'module.fpn.inner_blocks.0.bias', 'module.fpn.inner_blocks.1.weight', 'module.fpn.inner_blocks.1.bias', 'module.fpn.inner_blocks.2.weight', 'module.fpn.inner_blocks.2.bias', 'module.fpn.inner_blocks.3.weight', 'module.fpn.inner_blocks.3.bias', 'module.fpn.layer_blocks.0.weight', 'module.fpn.layer_blocks.0.bias', 'module.fpn.layer_blocks.1.weight', 'module.fpn.layer_blocks.1.bias', 'module.fpn.layer_blocks.2.weight', 'module.fpn.layer_blocks.2.bias', 'module.fpn.layer_blocks.3.weight', 'module.fpn.layer_blocks.3.bias'])"
      ]
     },
     "execution_count": 21,
     "metadata": {},
     "output_type": "execute_result"
    }
   ],
   "source": [
    "pretrained_dict.keys()"
   ]
  },
  {
   "cell_type": "code",
   "execution_count": 23,
   "metadata": {},
   "outputs": [],
   "source": [
    "#mod_dicts = [k.replace('module.',''):v for k,v in pretrained_dict]\n",
    "mod_dicts = dict((key.replace('module.',''), value) for (key, value) in pretrained_dict.items())"
   ]
  },
  {
   "cell_type": "code",
   "execution_count": 25,
   "metadata": {},
   "outputs": [
    {
     "data": {
      "text/plain": [
       "dict_keys(['body.conv1.weight', 'body.bn1.weight', 'body.bn1.bias', 'body.bn1.running_mean', 'body.bn1.running_var', 'body.layer1.0.conv1.weight', 'body.layer1.0.bn1.weight', 'body.layer1.0.bn1.bias', 'body.layer1.0.bn1.running_mean', 'body.layer1.0.bn1.running_var', 'body.layer1.0.conv2.weight', 'body.layer1.0.bn2.weight', 'body.layer1.0.bn2.bias', 'body.layer1.0.bn2.running_mean', 'body.layer1.0.bn2.running_var', 'body.layer1.0.conv3.weight', 'body.layer1.0.bn3.weight', 'body.layer1.0.bn3.bias', 'body.layer1.0.bn3.running_mean', 'body.layer1.0.bn3.running_var', 'body.layer1.0.downsample.0.weight', 'body.layer1.0.downsample.1.weight', 'body.layer1.0.downsample.1.bias', 'body.layer1.0.downsample.1.running_mean', 'body.layer1.0.downsample.1.running_var', 'body.layer1.1.conv1.weight', 'body.layer1.1.bn1.weight', 'body.layer1.1.bn1.bias', 'body.layer1.1.bn1.running_mean', 'body.layer1.1.bn1.running_var', 'body.layer1.1.conv2.weight', 'body.layer1.1.bn2.weight', 'body.layer1.1.bn2.bias', 'body.layer1.1.bn2.running_mean', 'body.layer1.1.bn2.running_var', 'body.layer1.1.conv3.weight', 'body.layer1.1.bn3.weight', 'body.layer1.1.bn3.bias', 'body.layer1.1.bn3.running_mean', 'body.layer1.1.bn3.running_var', 'body.layer1.2.conv1.weight', 'body.layer1.2.bn1.weight', 'body.layer1.2.bn1.bias', 'body.layer1.2.bn1.running_mean', 'body.layer1.2.bn1.running_var', 'body.layer1.2.conv2.weight', 'body.layer1.2.bn2.weight', 'body.layer1.2.bn2.bias', 'body.layer1.2.bn2.running_mean', 'body.layer1.2.bn2.running_var', 'body.layer1.2.conv3.weight', 'body.layer1.2.bn3.weight', 'body.layer1.2.bn3.bias', 'body.layer1.2.bn3.running_mean', 'body.layer1.2.bn3.running_var', 'body.layer2.0.conv1.weight', 'body.layer2.0.bn1.weight', 'body.layer2.0.bn1.bias', 'body.layer2.0.bn1.running_mean', 'body.layer2.0.bn1.running_var', 'body.layer2.0.conv2.weight', 'body.layer2.0.bn2.weight', 'body.layer2.0.bn2.bias', 'body.layer2.0.bn2.running_mean', 'body.layer2.0.bn2.running_var', 'body.layer2.0.conv3.weight', 'body.layer2.0.bn3.weight', 'body.layer2.0.bn3.bias', 'body.layer2.0.bn3.running_mean', 'body.layer2.0.bn3.running_var', 'body.layer2.0.downsample.0.weight', 'body.layer2.0.downsample.1.weight', 'body.layer2.0.downsample.1.bias', 'body.layer2.0.downsample.1.running_mean', 'body.layer2.0.downsample.1.running_var', 'body.layer2.1.conv1.weight', 'body.layer2.1.bn1.weight', 'body.layer2.1.bn1.bias', 'body.layer2.1.bn1.running_mean', 'body.layer2.1.bn1.running_var', 'body.layer2.1.conv2.weight', 'body.layer2.1.bn2.weight', 'body.layer2.1.bn2.bias', 'body.layer2.1.bn2.running_mean', 'body.layer2.1.bn2.running_var', 'body.layer2.1.conv3.weight', 'body.layer2.1.bn3.weight', 'body.layer2.1.bn3.bias', 'body.layer2.1.bn3.running_mean', 'body.layer2.1.bn3.running_var', 'body.layer2.2.conv1.weight', 'body.layer2.2.bn1.weight', 'body.layer2.2.bn1.bias', 'body.layer2.2.bn1.running_mean', 'body.layer2.2.bn1.running_var', 'body.layer2.2.conv2.weight', 'body.layer2.2.bn2.weight', 'body.layer2.2.bn2.bias', 'body.layer2.2.bn2.running_mean', 'body.layer2.2.bn2.running_var', 'body.layer2.2.conv3.weight', 'body.layer2.2.bn3.weight', 'body.layer2.2.bn3.bias', 'body.layer2.2.bn3.running_mean', 'body.layer2.2.bn3.running_var', 'body.layer2.3.conv1.weight', 'body.layer2.3.bn1.weight', 'body.layer2.3.bn1.bias', 'body.layer2.3.bn1.running_mean', 'body.layer2.3.bn1.running_var', 'body.layer2.3.conv2.weight', 'body.layer2.3.bn2.weight', 'body.layer2.3.bn2.bias', 'body.layer2.3.bn2.running_mean', 'body.layer2.3.bn2.running_var', 'body.layer2.3.conv3.weight', 'body.layer2.3.bn3.weight', 'body.layer2.3.bn3.bias', 'body.layer2.3.bn3.running_mean', 'body.layer2.3.bn3.running_var', 'body.layer3.0.conv1.weight', 'body.layer3.0.bn1.weight', 'body.layer3.0.bn1.bias', 'body.layer3.0.bn1.running_mean', 'body.layer3.0.bn1.running_var', 'body.layer3.0.conv2.weight', 'body.layer3.0.bn2.weight', 'body.layer3.0.bn2.bias', 'body.layer3.0.bn2.running_mean', 'body.layer3.0.bn2.running_var', 'body.layer3.0.conv3.weight', 'body.layer3.0.bn3.weight', 'body.layer3.0.bn3.bias', 'body.layer3.0.bn3.running_mean', 'body.layer3.0.bn3.running_var', 'body.layer3.0.downsample.0.weight', 'body.layer3.0.downsample.1.weight', 'body.layer3.0.downsample.1.bias', 'body.layer3.0.downsample.1.running_mean', 'body.layer3.0.downsample.1.running_var', 'body.layer3.1.conv1.weight', 'body.layer3.1.bn1.weight', 'body.layer3.1.bn1.bias', 'body.layer3.1.bn1.running_mean', 'body.layer3.1.bn1.running_var', 'body.layer3.1.conv2.weight', 'body.layer3.1.bn2.weight', 'body.layer3.1.bn2.bias', 'body.layer3.1.bn2.running_mean', 'body.layer3.1.bn2.running_var', 'body.layer3.1.conv3.weight', 'body.layer3.1.bn3.weight', 'body.layer3.1.bn3.bias', 'body.layer3.1.bn3.running_mean', 'body.layer3.1.bn3.running_var', 'body.layer3.2.conv1.weight', 'body.layer3.2.bn1.weight', 'body.layer3.2.bn1.bias', 'body.layer3.2.bn1.running_mean', 'body.layer3.2.bn1.running_var', 'body.layer3.2.conv2.weight', 'body.layer3.2.bn2.weight', 'body.layer3.2.bn2.bias', 'body.layer3.2.bn2.running_mean', 'body.layer3.2.bn2.running_var', 'body.layer3.2.conv3.weight', 'body.layer3.2.bn3.weight', 'body.layer3.2.bn3.bias', 'body.layer3.2.bn3.running_mean', 'body.layer3.2.bn3.running_var', 'body.layer3.3.conv1.weight', 'body.layer3.3.bn1.weight', 'body.layer3.3.bn1.bias', 'body.layer3.3.bn1.running_mean', 'body.layer3.3.bn1.running_var', 'body.layer3.3.conv2.weight', 'body.layer3.3.bn2.weight', 'body.layer3.3.bn2.bias', 'body.layer3.3.bn2.running_mean', 'body.layer3.3.bn2.running_var', 'body.layer3.3.conv3.weight', 'body.layer3.3.bn3.weight', 'body.layer3.3.bn3.bias', 'body.layer3.3.bn3.running_mean', 'body.layer3.3.bn3.running_var', 'body.layer3.4.conv1.weight', 'body.layer3.4.bn1.weight', 'body.layer3.4.bn1.bias', 'body.layer3.4.bn1.running_mean', 'body.layer3.4.bn1.running_var', 'body.layer3.4.conv2.weight', 'body.layer3.4.bn2.weight', 'body.layer3.4.bn2.bias', 'body.layer3.4.bn2.running_mean', 'body.layer3.4.bn2.running_var', 'body.layer3.4.conv3.weight', 'body.layer3.4.bn3.weight', 'body.layer3.4.bn3.bias', 'body.layer3.4.bn3.running_mean', 'body.layer3.4.bn3.running_var', 'body.layer3.5.conv1.weight', 'body.layer3.5.bn1.weight', 'body.layer3.5.bn1.bias', 'body.layer3.5.bn1.running_mean', 'body.layer3.5.bn1.running_var', 'body.layer3.5.conv2.weight', 'body.layer3.5.bn2.weight', 'body.layer3.5.bn2.bias', 'body.layer3.5.bn2.running_mean', 'body.layer3.5.bn2.running_var', 'body.layer3.5.conv3.weight', 'body.layer3.5.bn3.weight', 'body.layer3.5.bn3.bias', 'body.layer3.5.bn3.running_mean', 'body.layer3.5.bn3.running_var', 'body.layer4.0.conv1.weight', 'body.layer4.0.bn1.weight', 'body.layer4.0.bn1.bias', 'body.layer4.0.bn1.running_mean', 'body.layer4.0.bn1.running_var', 'body.layer4.0.conv2.weight', 'body.layer4.0.bn2.weight', 'body.layer4.0.bn2.bias', 'body.layer4.0.bn2.running_mean', 'body.layer4.0.bn2.running_var', 'body.layer4.0.conv3.weight', 'body.layer4.0.bn3.weight', 'body.layer4.0.bn3.bias', 'body.layer4.0.bn3.running_mean', 'body.layer4.0.bn3.running_var', 'body.layer4.0.downsample.0.weight', 'body.layer4.0.downsample.1.weight', 'body.layer4.0.downsample.1.bias', 'body.layer4.0.downsample.1.running_mean', 'body.layer4.0.downsample.1.running_var', 'body.layer4.1.conv1.weight', 'body.layer4.1.bn1.weight', 'body.layer4.1.bn1.bias', 'body.layer4.1.bn1.running_mean', 'body.layer4.1.bn1.running_var', 'body.layer4.1.conv2.weight', 'body.layer4.1.bn2.weight', 'body.layer4.1.bn2.bias', 'body.layer4.1.bn2.running_mean', 'body.layer4.1.bn2.running_var', 'body.layer4.1.conv3.weight', 'body.layer4.1.bn3.weight', 'body.layer4.1.bn3.bias', 'body.layer4.1.bn3.running_mean', 'body.layer4.1.bn3.running_var', 'body.layer4.2.conv1.weight', 'body.layer4.2.bn1.weight', 'body.layer4.2.bn1.bias', 'body.layer4.2.bn1.running_mean', 'body.layer4.2.bn1.running_var', 'body.layer4.2.conv2.weight', 'body.layer4.2.bn2.weight', 'body.layer4.2.bn2.bias', 'body.layer4.2.bn2.running_mean', 'body.layer4.2.bn2.running_var', 'body.layer4.2.conv3.weight', 'body.layer4.2.bn3.weight', 'body.layer4.2.bn3.bias', 'body.layer4.2.bn3.running_mean', 'body.layer4.2.bn3.running_var', 'fpn.inner_blocks.0.weight', 'fpn.inner_blocks.0.bias', 'fpn.inner_blocks.1.weight', 'fpn.inner_blocks.1.bias', 'fpn.inner_blocks.2.weight', 'fpn.inner_blocks.2.bias', 'fpn.inner_blocks.3.weight', 'fpn.inner_blocks.3.bias', 'fpn.layer_blocks.0.weight', 'fpn.layer_blocks.0.bias', 'fpn.layer_blocks.1.weight', 'fpn.layer_blocks.1.bias', 'fpn.layer_blocks.2.weight', 'fpn.layer_blocks.2.bias', 'fpn.layer_blocks.3.weight', 'fpn.layer_blocks.3.bias'])"
      ]
     },
     "execution_count": 25,
     "metadata": {},
     "output_type": "execute_result"
    }
   ],
   "source": [
    "mod_dicts.keys()"
   ]
  },
  {
   "cell_type": "code",
   "execution_count": null,
   "metadata": {},
   "outputs": [],
   "source": []
  }
 ],
 "metadata": {
  "kernelspec": {
   "display_name": "foryolo",
   "language": "python",
   "name": "foryolo"
  },
  "language_info": {
   "codemirror_mode": {
    "name": "ipython",
    "version": 3
   },
   "file_extension": ".py",
   "mimetype": "text/x-python",
   "name": "python",
   "nbconvert_exporter": "python",
   "pygments_lexer": "ipython3",
   "version": "3.8.6"
  }
 },
 "nbformat": 4,
 "nbformat_minor": 5
}
